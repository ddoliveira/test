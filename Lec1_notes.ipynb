{
 "cells": [
  {
   "cell_type": "markdown",
   "metadata": {},
   "source": [
    "# Markdown examples\n",
    "## Example of markdown\n",
    "\n",
    "\n",
    "### Smaller header (need a space before the headers'name\n",
    "\n",
    "Test 1 on 11/20/17"
   ]
  },
  {
   "cell_type": "markdown",
   "metadata": {},
   "source": [
    "This allows fixed wodth text: `bla bla`\n",
    "\n",
    "\n",
    "bla bla\n",
    "\n",
    "# equation:\n",
    "$$\\alpha \\frac{\\beta}{\\gamma}=\\delta$$"
   ]
  },
  {
   "cell_type": "markdown",
   "metadata": {},
   "source": [
    "\\begin{equation*}\n",
    "\\alpha \\frac{\\beta}{\\gamma}=\\delta\n",
    "\\end{equation*}"
   ]
  },
  {
   "cell_type": "markdown",
   "metadata": {},
   "source": [
    "List\n",
    "- hello\n",
    "- another item "
   ]
  },
  {
   "cell_type": "markdown",
   "metadata": {},
   "source": [
    "More markdown\n",
    "\n",
    "# Lists \n",
    "1. hello\n",
    "34. another number\n",
    "4. the actual number does not matter "
   ]
  },
  {
   "cell_type": "markdown",
   "metadata": {},
   "source": [
    "quotes:\n",
    "hello I am **bold text** <br>\n",
    "I am *italic*"
   ]
  },
  {
   "cell_type": "markdown",
   "metadata": {},
   "source": [
    "````python code\n",
    "\n",
    "def function_name:\n",
    "    print 'something'\n",
    "````\n",
    "\n"
   ]
  },
  {
   "cell_type": "code",
   "execution_count": null,
   "metadata": {
    "collapsed": true
   },
   "outputs": [],
   "source": []
  },
  {
   "cell_type": "markdown",
   "metadata": {
    "collapsed": true
   },
   "source": [
    "# Cleaning\n",
    "\n",
    "df['col name']=df['col name'].astype('int')\n",
    "\n",
    "may hit some problem in None or null\n",
    "\n",
    "then check if null\n",
    "\n",
    "df[df.['col name'].isnull()]\n",
    "\n",
    "df.['col name'].unique()"
   ]
  },
  {
   "cell_type": "markdown",
   "metadata": {},
   "source": [
    "GIT\n"
   ]
  }
 ],
 "metadata": {
  "anaconda-cloud": {},
  "kernelspec": {
   "display_name": "Python 2",
   "language": "python",
   "name": "python2"
  },
  "language_info": {
   "codemirror_mode": {
    "name": "ipython",
    "version": 2
   },
   "file_extension": ".py",
   "mimetype": "text/x-python",
   "name": "python",
   "nbconvert_exporter": "python",
   "pygments_lexer": "ipython2",
   "version": "2.7.14"
  }
 },
 "nbformat": 4,
 "nbformat_minor": 1
}
